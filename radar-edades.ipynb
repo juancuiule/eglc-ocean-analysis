{
 "cells": [
  {
   "cell_type": "code",
   "execution_count": 14,
   "metadata": {},
   "outputs": [],
   "source": [
    "import pandas as pd"
   ]
  },
  {
   "cell_type": "code",
   "execution_count": 15,
   "metadata": {},
   "outputs": [],
   "source": [
    "import math"
   ]
  },
  {
   "cell_type": "code",
   "execution_count": 16,
   "metadata": {},
   "outputs": [],
   "source": [
    "from scipy import stats as sc"
   ]
  },
  {
   "cell_type": "code",
   "execution_count": 17,
   "metadata": {},
   "outputs": [],
   "source": [
    "from matplotlib import pyplot as plt"
   ]
  },
  {
   "cell_type": "code",
   "execution_count": 18,
   "metadata": {},
   "outputs": [],
   "source": [
    "import numpy as np"
   ]
  },
  {
   "cell_type": "code",
   "execution_count": 4,
   "metadata": {},
   "outputs": [],
   "source": [
    "from scipy import stats"
   ]
  },
  {
   "cell_type": "code",
   "execution_count": 5,
   "metadata": {},
   "outputs": [
    {
     "name": "stdout",
     "output_type": "stream",
     "text": [
      "157101\n"
     ]
    }
   ],
   "source": [
    "csv = pd.read_csv('./ocean157ksafe.csv', ',')\n",
    "print(len(csv.index))\n",
    "# csv = pd.read_csv('../1605298557-experimento-personalidades.csv', ';')\n",
    "# print(len(csv.index))"
   ]
  },
  {
   "cell_type": "code",
   "execution_count": 6,
   "metadata": {},
   "outputs": [],
   "source": [
    "renames = {\n",
    "    '1_extraversion': \"Extroversión\",\n",
    "    '1_agreeableness': \"Agradabilidad\",\n",
    "    '1_conscientiousness': \"Responsabilidad\",\n",
    "    '1_neuroticism': \"Neuroticismo\",\n",
    "    '1_openness': \"Apertura a la experiencia\",\n",
    "}\n",
    "\n",
    "percentiles = {\n",
    "    \"min\": 0.25,\n",
    "    \"med\": 0.5,\n",
    "    \"max\": 0.75\n",
    "}\n",
    "\n",
    "traits = list(renames.values())"
   ]
  },
  {
   "cell_type": "code",
   "execution_count": 7,
   "metadata": {},
   "outputs": [],
   "source": [
    "csv = csv.rename(columns=renames)"
   ]
  },
  {
   "cell_type": "code",
   "execution_count": 8,
   "metadata": {},
   "outputs": [],
   "source": [
    "step = 1\n",
    "inf = 18\n",
    "sup = 60\n",
    "aggr = csv.groupby(pd.cut(csv[\"2_edad\"], np.arange(inf - 1, sup + step, step)))"
   ]
  },
  {
   "cell_type": "code",
   "execution_count": 9,
   "metadata": {},
   "outputs": [],
   "source": [
    "data = {}\n",
    "for group, values in aggr:\n",
    "    edad = str(group)[-3:-1]\n",
    "    data[edad] = {\n",
    "        \"min\": [],\n",
    "        \"med\": [],\n",
    "        \"max\": []\n",
    "    }\n",
    "    for p in percentiles.keys():\n",
    "        q = values.quantile(percentiles[p])\n",
    "        for trait in traits:\n",
    "            data[edad][p].append(q[trait])"
   ]
  },
  {
   "cell_type": "code",
   "execution_count": 10,
   "metadata": {},
   "outputs": [],
   "source": [
    "def getEstimate(own):\n",
    "    min_diff = {\"k\": 0, \"diff\": 10000}\n",
    "    for item in list(data.items()):\n",
    "        diff = 0\n",
    "        key, values = item\n",
    "        for i, value in enumerate(own):\n",
    "            trait_diff = ((value - values['med'][i]) / (values['max'][i] - values['min'][i])) ** 2\n",
    "            diff += trait_diff\n",
    "        if diff < min_diff[\"diff\"]:\n",
    "            min_diff = {\"k\": key, \"diff\": diff}\n",
    "    return min_diff"
   ]
  },
  {
   "cell_type": "code",
   "execution_count": 11,
   "metadata": {},
   "outputs": [
    {
     "data": {
      "text/plain": [
       "{'k': '18', 'diff': 0.7827538422776518}"
      ]
     },
     "execution_count": 11,
     "metadata": {},
     "output_type": "execute_result"
    }
   ],
   "source": [
    "getEstimate([21, 32, 27, 29, 45])"
   ]
  },
  {
   "cell_type": "code",
   "execution_count": 19,
   "metadata": {},
   "outputs": [],
   "source": [
    "edades = np.array([])\n",
    "estimates = np.array([])\n",
    "diffs = np.array([])\n",
    "for i, row in csv.iterrows():\n",
    "    own = np.array([])\n",
    "    for col in traits:\n",
    "        own = np.append(own, row[col])\n",
    "    estimate = getEstimate(list(own))\n",
    "    estimates = np.append(estimates, int(estimate[\"k\"]))\n",
    "    edades = np.append(edades, int(row['2_edad']))\n",
    "    diffs = np.append(diffs, (abs(int(row['2_edad']) - int(estimate[\"k\"]))))"
   ]
  },
  {
   "cell_type": "code",
   "execution_count": 20,
   "metadata": {},
   "outputs": [
    {
     "data": {
      "text/plain": [
       "(0.16492277516555565, 0.0)"
      ]
     },
     "execution_count": 20,
     "metadata": {},
     "output_type": "execute_result"
    }
   ],
   "source": [
    "sc.pearsonr(list(edades), list(estimates))"
   ]
  },
  {
   "cell_type": "code",
   "execution_count": 21,
   "metadata": {},
   "outputs": [],
   "source": [
    "coef = np.polyfit(edades, estimates, 1)"
   ]
  },
  {
   "cell_type": "code",
   "execution_count": 22,
   "metadata": {},
   "outputs": [],
   "source": [
    "poly1d_fn = np.poly1d(coef)"
   ]
  },
  {
   "cell_type": "code",
   "execution_count": null,
   "metadata": {},
   "outputs": [
    {
     "data": {
      "text/plain": [
       "(18.0, 60.0)"
      ]
     },
     "execution_count": 23,
     "metadata": {},
     "output_type": "execute_result"
    }
   ],
   "source": [
    "plt.plot(edades, estimates, 'yo', edades, poly1d_fn(edades), '--k')\n",
    "plt.xlim(18,60)\n",
    "plt.ylim(18,60)"
   ]
  },
  {
   "cell_type": "code",
   "execution_count": null,
   "metadata": {},
   "outputs": [],
   "source": []
  }
 ],
 "metadata": {
  "kernelspec": {
   "display_name": "Python 3",
   "language": "python",
   "name": "python3"
  },
  "language_info": {
   "codemirror_mode": {
    "name": "ipython",
    "version": 3
   },
   "file_extension": ".py",
   "mimetype": "text/x-python",
   "name": "python",
   "nbconvert_exporter": "python",
   "pygments_lexer": "ipython3",
   "version": "3.8.3"
  }
 },
 "nbformat": 4,
 "nbformat_minor": 4
}
