{
 "cells": [
  {
   "cell_type": "code",
   "execution_count": 1,
   "metadata": {},
   "outputs": [],
   "source": [
    "import pandas as pd"
   ]
  },
  {
   "cell_type": "code",
   "execution_count": 2,
   "metadata": {},
   "outputs": [],
   "source": [
    "import numpy as np"
   ]
  },
  {
   "cell_type": "code",
   "execution_count": 3,
   "metadata": {},
   "outputs": [],
   "source": [
    "csv = pd.read_csv('./ocean157ksafe.csv', ',')"
   ]
  },
  {
   "cell_type": "code",
   "execution_count": 4,
   "metadata": {},
   "outputs": [],
   "source": [
    "renames = {\n",
    "    '1_extraversion': \"Extroversión\",\n",
    "    '1_agreeableness': \"Agradabilidad\",\n",
    "    '1_conscientiousness': \"Responsabilidad\",\n",
    "    '1_neuroticism': \"Neuroticismo\",\n",
    "    '1_openness': \"Apertura a la experiencia\",\n",
    "    '2_nacionalidad': \"Nacionalidad\"\n",
    "}\n",
    "\n",
    "nacionalidades = {\n",
    "    \"11\": \"Argentina\",\n",
    "    \"40\": \"Chile\",\n",
    "    \"44\": \"Colombia\",\n",
    "    \"58\": \"El Salvador\",\n",
    "    \"63\": \"España\",\n",
    "    \"89\": \"Honduras\",\n",
    "    \"140\": \"México\",\n",
    "    \"177\": \"Paraguay\",\n",
    "    \"178\": \"Perú\",\n",
    "    \"236\": \"Uruguay\",\n",
    "    \"239\": \"Venezuela\",\n",
    "}\n",
    "\n",
    "traits = [\n",
    "    \"Extroversión\",\n",
    "    \"Agradabilidad\",\n",
    "    \"Responsabilidad\",\n",
    "    \"Neuroticismo\",\n",
    "    \"Apertura a la experiencia\"\n",
    "]"
   ]
  },
  {
   "cell_type": "code",
   "execution_count": 5,
   "metadata": {},
   "outputs": [],
   "source": [
    "csv = csv.rename(columns=renames)\n",
    "for k in nacionalidades.keys():\n",
    "    csv.loc[csv[\"Nacionalidad\"] == int(k), 'Nacionalidad'] = nacionalidades.get(k)"
   ]
  },
  {
   "cell_type": "code",
   "execution_count": 6,
   "metadata": {},
   "outputs": [],
   "source": [
    "paises = []\n",
    "for g, v in csv.groupby('Nacionalidad'):\n",
    "    paises.append([g, len(v)])"
   ]
  },
  {
   "cell_type": "code",
   "execution_count": 7,
   "metadata": {},
   "outputs": [
    {
     "data": {
      "text/plain": [
       "[['Argentina', 98755],\n",
       " ['Chile', 835],\n",
       " ['Colombia', 1091],\n",
       " ['El Salvador', 3773],\n",
       " ['España', 31158],\n",
       " ['Honduras', 2868],\n",
       " ['México', 8688],\n",
       " ['Paraguay', 1242],\n",
       " ['Perú', 721],\n",
       " ['Uruguay', 3032],\n",
       " ['Venezuela', 1795]]"
      ]
     },
     "execution_count": 7,
     "metadata": {},
     "output_type": "execute_result"
    }
   ],
   "source": [
    "[p for p in paises if p[1] > 500] # Países con más de 500 respuestas"
   ]
  },
  {
   "cell_type": "code",
   "execution_count": 8,
   "metadata": {},
   "outputs": [
    {
     "name": "stdout",
     "output_type": "stream",
     "text": [
      "Argentina 98755\n",
      "Chile 835\n",
      "Colombia 1091\n",
      "El Salvador 3773\n",
      "España 31158\n",
      "Honduras 2868\n",
      "México 8688\n",
      "Paraguay 1242\n",
      "Perú 721\n",
      "Uruguay 3032\n",
      "Venezuela 1795\n"
     ]
    }
   ],
   "source": [
    "agrupado = {}\n",
    "for pais in nacionalidades.values():\n",
    "    agrupado[pais] = csv.loc[csv[\"Nacionalidad\"]  == pais]\n",
    "\n",
    "for pais in agrupado.keys():\n",
    "    print(pais, len(agrupado[pais]))"
   ]
  },
  {
   "cell_type": "code",
   "execution_count": 9,
   "metadata": {},
   "outputs": [],
   "source": [
    "data = {}\n",
    "for key in [\n",
    "    \"Argentina\",\n",
    "    \"México\",\n",
    "    \"Uruguay\",\n",
    "    \"España\"\n",
    "]:\n",
    "    data[key] = []\n",
    "    for trait in traits:\n",
    "        data[key].append(agrupado[key].quantile(0.5)[trait])"
   ]
  },
  {
   "cell_type": "code",
   "execution_count": 10,
   "metadata": {},
   "outputs": [
    {
     "data": {
      "text/plain": [
       "{'Argentina': [26.0, 33.0, 30.0, 27.0, 38.0],\n",
       " 'México': [27.0, 33.0, 29.0, 27.0, 38.0],\n",
       " 'Uruguay': [25.0, 32.0, 29.0, 27.0, 38.0],\n",
       " 'España': [26.0, 34.0, 28.0, 27.0, 37.0]}"
      ]
     },
     "execution_count": 10,
     "metadata": {},
     "output_type": "execute_result"
    }
   ],
   "source": [
    "data"
   ]
  },
  {
   "cell_type": "code",
   "execution_count": null,
   "metadata": {},
   "outputs": [],
   "source": []
  }
 ],
 "metadata": {
  "kernelspec": {
   "display_name": "Python 3",
   "language": "python",
   "name": "python3"
  },
  "language_info": {
   "codemirror_mode": {
    "name": "ipython",
    "version": 3
   },
   "file_extension": ".py",
   "mimetype": "text/x-python",
   "name": "python",
   "nbconvert_exporter": "python",
   "pygments_lexer": "ipython3",
   "version": "3.8.3"
  }
 },
 "nbformat": 4,
 "nbformat_minor": 4
}
