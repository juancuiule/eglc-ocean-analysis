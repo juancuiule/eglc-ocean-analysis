{
 "cells": [
  {
   "cell_type": "code",
   "execution_count": 1,
   "metadata": {},
   "outputs": [],
   "source": [
    "import pandas as pd"
   ]
  },
  {
   "cell_type": "code",
   "execution_count": 2,
   "metadata": {},
   "outputs": [],
   "source": [
    "import numpy as np"
   ]
  },
  {
   "cell_type": "code",
   "execution_count": 3,
   "metadata": {},
   "outputs": [],
   "source": [
    "csv = pd.read_csv('./ocean157ksafe.csv', ',')"
   ]
  },
  {
   "cell_type": "code",
   "execution_count": 4,
   "metadata": {},
   "outputs": [],
   "source": [
    "renames = {\n",
    "    '1_extraversion': \"Extroversión\",\n",
    "    '1_agreeableness': \"Agradabilidad\",\n",
    "    '1_conscientiousness': \"Responsabilidad\",\n",
    "    '1_neuroticism': \"Neuroticismo\",\n",
    "    '1_openness': \"Apertura a la experiencia\",\n",
    "}\n",
    "\n",
    "percentiles = {\n",
    "    \"min\": 0.25,\n",
    "    \"med\": 0.5,\n",
    "    \"max\": 0.75\n",
    "}\n",
    "\n",
    "traits = list(renames.values())"
   ]
  },
  {
   "cell_type": "code",
   "execution_count": 5,
   "metadata": {},
   "outputs": [],
   "source": [
    "csv = csv.rename(columns=renames)"
   ]
  },
  {
   "cell_type": "code",
   "execution_count": 6,
   "metadata": {},
   "outputs": [],
   "source": [
    "data = {\n",
    "    \"min\": [],\n",
    "    \"med\": [],\n",
    "    \"max\": []\n",
    "}\n",
    "for p in percentiles.keys():\n",
    "    q = csv.quantile(percentiles[p])\n",
    "    for trait in traits:\n",
    "        data[p].append(q[trait])"
   ]
  },
  {
   "cell_type": "code",
   "execution_count": 7,
   "metadata": {},
   "outputs": [
    {
     "data": {
      "text/plain": [
       "{'min': [21.0, 29.0, 25.0, 22.0, 33.0],\n",
       " 'med': [26.0, 33.0, 29.0, 27.0, 38.0],\n",
       " 'max': [31.0, 36.0, 34.0, 32.0, 43.0]}"
      ]
     },
     "execution_count": 7,
     "metadata": {},
     "output_type": "execute_result"
    }
   ],
   "source": [
    "data"
   ]
  },
  {
   "cell_type": "code",
   "execution_count": null,
   "metadata": {},
   "outputs": [],
   "source": []
  }
 ],
 "metadata": {
  "kernelspec": {
   "display_name": "Python 3",
   "language": "python",
   "name": "python3"
  },
  "language_info": {
   "codemirror_mode": {
    "name": "ipython",
    "version": 3
   },
   "file_extension": ".py",
   "mimetype": "text/x-python",
   "name": "python",
   "nbconvert_exporter": "python",
   "pygments_lexer": "ipython3",
   "version": "3.8.3"
  }
 },
 "nbformat": 4,
 "nbformat_minor": 4
}
