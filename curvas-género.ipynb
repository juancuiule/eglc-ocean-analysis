{
 "cells": [
  {
   "cell_type": "code",
   "execution_count": 20,
   "metadata": {},
   "outputs": [],
   "source": [
    "import pandas as pd"
   ]
  },
  {
   "cell_type": "code",
   "execution_count": 21,
   "metadata": {},
   "outputs": [],
   "source": [
    "import math"
   ]
  },
  {
   "cell_type": "code",
   "execution_count": 22,
   "metadata": {},
   "outputs": [],
   "source": [
    "import numpy as np"
   ]
  },
  {
   "cell_type": "code",
   "execution_count": 23,
   "metadata": {},
   "outputs": [],
   "source": [
    "from scipy import stats"
   ]
  },
  {
   "cell_type": "code",
   "execution_count": 24,
   "metadata": {},
   "outputs": [],
   "source": [
    "csv = pd.read_csv('./ocean157ksafe.csv', ',')"
   ]
  },
  {
   "cell_type": "code",
   "execution_count": 25,
   "metadata": {},
   "outputs": [],
   "source": [
    "generos = {\n",
    "    \"1\": \"Mujer\",\n",
    "    \"2\": \"Varón\",\n",
    "    \"3\": \"No binarie\",\n",
    "    \"4\": \"Género fluido\",\n",
    "    \"5\": \"Ninguna de estas opciones me identifica\",\n",
    "    \"6\": \"Prefiero no decirlo\"\n",
    "}\n",
    "\n",
    "renames = {\n",
    "    '1_extraversion': \"Extroversión\",\n",
    "    '1_agreeableness': \"Agradabilidad\",\n",
    "    '1_conscientiousness': \"Responsabilidad\",\n",
    "    '1_neuroticism': \"Neuroticismo\",\n",
    "    '1_openness': \"Apertura a la experiencia\",\n",
    "    \"2_genero\": \"Género\",\n",
    "}\n",
    "\n",
    "traits = [\n",
    "    \"Extroversión\",\n",
    "    \"Agradabilidad\",\n",
    "    \"Responsabilidad\",\n",
    "    \"Neuroticismo\",\n",
    "    \"Apertura a la experiencia\"\n",
    "]\n",
    "\n",
    "gen_keys = {\n",
    "    \"mujer\": \"mujeres\",\n",
    "    \"varón\": \"varones\",\n",
    "    \"no binarie\": \"noBinarie\",\n",
    "    \"género fluido\": \"generoFluido\"\n",
    "}"
   ]
  },
  {
   "cell_type": "code",
   "execution_count": 26,
   "metadata": {},
   "outputs": [],
   "source": [
    "csv = csv.rename(columns=renames)"
   ]
  },
  {
   "cell_type": "code",
   "execution_count": 27,
   "metadata": {},
   "outputs": [],
   "source": [
    "for k in generos.keys():\n",
    "    csv.loc[csv[\"Género\"] == int(k), 'Género'] = generos.get(k)"
   ]
  },
  {
   "cell_type": "code",
   "execution_count": 50,
   "metadata": {},
   "outputs": [],
   "source": [
    "def maxX(trait, area=0.9999):\n",
    "    xs = []\n",
    "    for genero in list(generos.values())[:4]:\n",
    "        subset = csv.loc[csv[\"Género\"] == genero][trait]\n",
    "        valores = np.array(subset)\n",
    "        f = stats.gaussian_kde(valores, 0.5)\n",
    "        v = 0\n",
    "        for i in range(0, 100):\n",
    "            curr = f(i)[0]\n",
    "            v = v + curr\n",
    "            if abs(v - 1) < (1 - area):\n",
    "                xs.append(i)\n",
    "                break\n",
    "    return max(xs)"
   ]
  },
  {
   "cell_type": "code",
   "execution_count": 112,
   "metadata": {},
   "outputs": [],
   "source": [
    "\"\"\"\n",
    "Para cada trait armar curvas para cada género\n",
    "Queda algo como:\n",
    "{\n",
    "  \"trait1\": {\n",
    "      \"gen1\": [\n",
    "          [x0, y0],\n",
    "          ...\n",
    "          [xn, yn],\n",
    "      ],\n",
    "      ...\n",
    "      \"gen4\": [\n",
    "          [x0, y0],\n",
    "          ...\n",
    "          [xn, yn],\n",
    "      ]\n",
    "  },\n",
    "  ...\n",
    "  \"trait5\": { ... }\n",
    "}\n",
    "\"\"\"\n",
    "trait_genero_curva = {}\n",
    "for trait in traits: # para cada trait de OCEAN\n",
    "    trait_genero_curva[f\"{trait.lower()}\"] = {}\n",
    "    rangeMax = maxX(trait)\n",
    "    xRange = range(0, maxX(trait) + 1)\n",
    "    \n",
    "    for genero in list(generos.values())[:4]: # para cada genero con suficientes respuestas\n",
    "        subset = csv.loc[csv[\"Género\"] == genero][trait]\n",
    "        valores = np.array(subset)\n",
    "        f = stats.gaussian_kde(valores, 0.5)\n",
    "        trait_genero_curva[f\"{trait.lower()}\"][f\"{gen_keys[genero.lower()]}\"] = []\n",
    "        for i in xRange:\n",
    "            trait_genero_curva[\n",
    "                f\"{trait.lower()}\"\n",
    "            ][\n",
    "                f\"{gen_keys[genero.lower()]}\"\n",
    "            ].append([i, f(i)[0]])"
   ]
  },
  {
   "cell_type": "code",
   "execution_count": 115,
   "metadata": {},
   "outputs": [],
   "source": [
    "\"\"\"\n",
    "Parecido a lo anterior pero devuelve la misma distribución para todos los géneros.\n",
    "Es para armar una curva de distribución unida que luego se va a separar\n",
    "en los distintos grupos (géneros).\n",
    "\"\"\"\n",
    "joined = {}\n",
    "# for trait in traits: # para cada trait de OCEAN\n",
    "trait = \"Apertura a la experiencia\"\n",
    "joined[f\"{trait.lower()}\"] = {}\n",
    "rangeMax = maxX(trait)\n",
    "xRange = range(0, maxX(trait) + 1)\n",
    "\n",
    "for genero in list(generos.values())[:4]: # para cada genero con suficientes respuestas\n",
    "    subset = csv[trait]\n",
    "    valores = np.array(subset)\n",
    "    f = stats.gaussian_kde(valores, 0.5)\n",
    "    joined[f\"{trait.lower()}\"][f\"{gen_keys[genero.lower()]}\"] = []\n",
    "    for i in xRange:\n",
    "        joined[\n",
    "            f\"{trait.lower()}\"\n",
    "        ][\n",
    "            f\"{gen_keys[genero.lower()]}\"\n",
    "        ].append([i, f(i)[0]])"
   ]
  },
  {
   "cell_type": "code",
   "execution_count": null,
   "metadata": {},
   "outputs": [],
   "source": []
  }
 ],
 "metadata": {
  "kernelspec": {
   "display_name": "Python 3",
   "language": "python",
   "name": "python3"
  },
  "language_info": {
   "codemirror_mode": {
    "name": "ipython",
    "version": 3
   },
   "file_extension": ".py",
   "mimetype": "text/x-python",
   "name": "python",
   "nbconvert_exporter": "python",
   "pygments_lexer": "ipython3",
   "version": "3.8.3"
  }
 },
 "nbformat": 4,
 "nbformat_minor": 4
}
